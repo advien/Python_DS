{
 "cells": [
  {
   "cell_type": "code",
   "execution_count": null,
   "id": "4962542d",
   "metadata": {},
   "outputs": [],
   "source": [
    "# задание 1. \n",
    "import matplotlib.pyplot as plt\n",
    "import numpy as np"
   ]
  },
  {
   "cell_type": "code",
   "execution_count": 1,
   "id": "31c85b76",
   "metadata": {},
   "outputs": [
    {
     "name": "stderr",
     "output_type": "stream",
     "text": [
      "Matplotlib is building the font cache; this may take a moment.\n"
     ]
    }
   ],
   "source": [
    "# применим маг.функ.\n",
    "%matplotlib inline\n",
    "%config InlineBackend.figure_format = 'svg'"
   ]
  },
  {
   "cell_type": "code",
   "execution_count": null,
   "id": "7434ba74",
   "metadata": {},
   "outputs": [],
   "source": [
    "# создаём списки\n",
    "x = [1, 2, 3, 4, 5, 6, 7]\n",
    "y = [3.5, 3.8, 4.2, 4.5, 5, 5.5, 7]"
   ]
  },
  {
   "cell_type": "code",
   "execution_count": null,
   "id": "c3222d9c",
   "metadata": {},
   "outputs": [],
   "source": [
    "# строим график\n",
    "plt.plot(x ,y)\n",
    "plt.show()"
   ]
  },
  {
   "cell_type": "code",
   "execution_count": null,
   "id": "bba06f34",
   "metadata": {},
   "outputs": [],
   "source": [
    "# строим диаграмму рассеяния\n",
    "plt.scatter(x, y)\n",
    "plt.show()"
   ]
  },
  {
   "cell_type": "code",
   "execution_count": null,
   "id": "d03a7738",
   "metadata": {},
   "outputs": [],
   "source": [
    "# задание 2.\n",
    "# создаём массив\n",
    "t = np.linspace(0, 10, 51)\n",
    "print(t)\n",
    "\n",
    "# создаём массив, содержащий косинусы элементов массива t\n",
    "f = np.cos(t)\n",
    "print(f)"
   ]
  },
  {
   "cell_type": "code",
   "execution_count": null,
   "id": "0a07947f",
   "metadata": {},
   "outputs": [],
   "source": [
    "plt.plot(t, f, color='green')\n",
    "# выводим и добавляем названия\n",
    "plt.title('График f(t)')\n",
    "plt.xlabel('Значения t')\n",
    "plt.ylabel('Значения f')\n",
    "# ограничиваем график\n",
    "plt.axis([0.5, 9.5, -2.5, 2.5])\n",
    "plt.show()"
   ]
  },
  {
   "cell_type": "code",
   "execution_count": null,
   "id": "fe793cdb",
   "metadata": {},
   "outputs": [],
   "source": [
    "# задание 3*.\n",
    "x = np.linspace(-3, 3, 51)\n",
    "print(x)"
   ]
  },
  {
   "cell_type": "code",
   "execution_count": null,
   "id": "64bff1da",
   "metadata": {},
   "outputs": [],
   "source": [
    "y1 = x**2\n",
    "print(y1)"
   ]
  },
  {
   "cell_type": "code",
   "execution_count": null,
   "id": "02a037d8",
   "metadata": {},
   "outputs": [],
   "source": [
    "y2 = 2 * x + 0.5\n",
    "print(y2)"
   ]
  },
  {
   "cell_type": "code",
   "execution_count": null,
   "id": "fed7b4eb",
   "metadata": {},
   "outputs": [],
   "source": [
    "y3 = -3 * x - 1.5\n",
    "print(y3)"
   ]
  },
  {
   "cell_type": "code",
   "execution_count": null,
   "id": "447f8b79",
   "metadata": {},
   "outputs": [],
   "source": [
    "y4 = np.sin(x)\n",
    "print(y4)"
   ]
  },
  {
   "cell_type": "code",
   "execution_count": null,
   "id": "49e7b8ae",
   "metadata": {},
   "outputs": [],
   "source": [
    "fig, ax = plt.subplots(nrows=2, ncols=2)\n",
    "ax1, ax2, ax3, ax4 = ax.flatten()\n",
    "ax1.plot(x, y1)\n",
    "ax2.plot(x, y2)\n",
    "ax3.plot(x, y3)\n",
    "ax4.plot(x, y4)\n",
    "# даём название графикам:\n",
    "ax1.set_title('График $y_1$')\n",
    "ax2.set_title('График $y_2$')\n",
    "ax3.set_title('График $y_3$')\n",
    "ax4.set_title('График $y_4$')\n",
    "\n",
    "# Для графика в левом верхнем углу установите границы по оси x от -5 до 5.\n",
    "ax1.set_xlim([-5, 5])\n",
    "# Установите размеры фигуры 8 дюймов по горизонтали и 6 дюймов по вертикали.\n",
    "fig.set_size_inches(8, 6)\n",
    "# Вертикальные и горизонтальные зазоры между графиками должны составлять 0.3.\n",
    "plt.subplots_adjust(wspace=0.3, hspace=0.3)\n",
    "plt.show()"
   ]
  }
 ],
 "metadata": {
  "kernelspec": {
   "display_name": "Python 3",
   "language": "python",
   "name": "python3"
  },
  "language_info": {
   "codemirror_mode": {
    "name": "ipython",
    "version": 3
   },
   "file_extension": ".py",
   "mimetype": "text/x-python",
   "name": "python",
   "nbconvert_exporter": "python",
   "pygments_lexer": "ipython3",
   "version": "3.8.8"
  }
 },
 "nbformat": 4,
 "nbformat_minor": 5
}
