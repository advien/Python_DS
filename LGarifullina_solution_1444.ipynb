{
 "cells": [
  {
   "cell_type": "markdown",
   "id": "c2813865",
   "metadata": {},
   "source": [
    "#### Курсовой проект. Гарифуллина Луиза Олеговна, группа - 1444."
   ]
  },
  {
   "cell_type": "markdown",
   "id": "07cbe3e4",
   "metadata": {},
   "source": [
    "Определим целевую переменную - Price.\n",
    "Нашей основной метрикой будет R2 - коэффициент детерминации (sklearn.metrics.r2_score)"
   ]
  },
  {
   "cell_type": "code",
   "execution_count": null,
   "id": "44f23b1e",
   "metadata": {},
   "outputs": [],
   "source": [
    "import pandas as pd\n",
    "import matplotlib.pyplot as plt\n",
    "import seaborn as sns # statistical data visualization\n",
    "\n",
    "from scipy.stats import norm\n",
    "from scipy import stats\n",
    "\n",
    "\n",
    "# %matplotlib inline\n",
    "# %config InlineBackend.figure_format = 'svg'"
   ]
  },
  {
   "cell_type": "code",
   "execution_count": null,
   "id": "97e11afc",
   "metadata": {},
   "outputs": [],
   "source": [
    "def optimizing_df(df):\n",
    "    for col in df.columns:\n",
    "        if df[col].dtypes.kind == 'i' or df[col].dtypes.kind == 'u':\n",
    "            if df[col].min() >= 0:\n",
    "                df[col] = pd.to_numeric(df[col], downcast='unsigned')\n",
    "            else:\n",
    "                df[col] = pd.to_numeric(df[col], downcast='integer')\n",
    "\n",
    "        elif df[col].dtypes.kind == 'f' or df[col].dtypes.kind == 'c':\n",
    "            df[col] = pd.to_numeric(df[col], downcast='float')\n",
    "\n",
    "        elif df[col].dtypes.kind == 'O':\n",
    "            num_unique_values = len(df[col].unique())\n",
    "            num_total_values = len(df[col])\n",
    "            if num_unique_values / num_total_values < 0.5:\n",
    "                df[col] = df[col].astype('category')\n",
    "\n",
    "    return df"
   ]
  },
  {
   "cell_type": "code",
   "execution_count": null,
   "id": "fd34669e",
   "metadata": {},
   "outputs": [],
   "source": [
    "train = pd.read_csv('Dataset/train.csv')\n",
    "test = pd.read_csv('Dataset/test.csv')\n",
    "# сделаем сообщение о загрузке данных:\n",
    "print(\"Your data is loaded!\")\n",
    "# проверим другие данные:\n",
    "print(f\"Train:\\t{train.shape[0]}\\t sales and {train.shape[1]} features\")\n",
    "print(f'Test:\\t{test.shape[0]}\\t sales and {test.shape[1]} features')"
   ]
  },
  {
   "cell_type": "code",
   "execution_count": null,
   "id": "e312ffe3",
   "metadata": {},
   "outputs": [],
   "source": [
    "train.head()"
   ]
  },
  {
   "cell_type": "code",
   "execution_count": null,
   "id": "362d16ad",
   "metadata": {},
   "outputs": [],
   "source": [
    "test.head()"
   ]
  },
  {
   "cell_type": "code",
   "execution_count": null,
   "id": "3d2583b9",
   "metadata": {},
   "outputs": [],
   "source": [
    "train.info(memory_usage='deep')"
   ]
  },
  {
   "cell_type": "code",
   "execution_count": null,
   "id": "b4434d8b",
   "metadata": {},
   "outputs": [],
   "source": [
    "test.info(memory_usage='deep')"
   ]
  },
  {
   "cell_type": "code",
   "execution_count": null,
   "id": "c0216b81",
   "metadata": {},
   "outputs": [],
   "source": [
    "Memory use optimization"
   ]
  },
  {
   "cell_type": "code",
   "execution_count": null,
   "id": "05617440",
   "metadata": {},
   "outputs": [],
   "source": [
    "train['Rooms'] = train['Rooms'].astype('int64')\n",
    "test['Rooms'] = test['Rooms'].astype('int64')"
   ]
  },
  {
   "cell_type": "code",
   "execution_count": null,
   "id": "111ff1ea",
   "metadata": {},
   "outputs": [],
   "source": [
    "train['HouseFloor'] = train['HouseFloor'].astype('int64')\n",
    "test['HouseFloor'] = test['HouseFloor'].astype('int64')"
   ]
  },
  {
   "cell_type": "code",
   "execution_count": null,
   "id": "e2ae3f3e",
   "metadata": {},
   "outputs": [],
   "source": [
    "train = optimizing_df(train)\n",
    "test = optimizing_df(test)"
   ]
  },
  {
   "cell_type": "code",
   "execution_count": null,
   "id": "7fdda031",
   "metadata": {},
   "outputs": [],
   "source": [
    "train.info(memory_usage='deep')"
   ]
  },
  {
   "cell_type": "code",
   "execution_count": null,
   "id": "ad8f2113",
   "metadata": {},
   "outputs": [],
   "source": [
    "test.info(memory_usage='deep')"
   ]
  },
  {
   "cell_type": "markdown",
   "id": "f73b2e45",
   "metadata": {},
   "source": [
    "#### Data Сhecking"
   ]
  },
  {
   "cell_type": "code",
   "execution_count": null,
   "id": "5f8eb9dd",
   "metadata": {},
   "outputs": [],
   "source": [
    "all_data = pd.concat((train, test), sort=False).reset_index(drop=True)\n",
    "all_data.drop(['Price'], axis=1, inplace=True)\n",
    "# проверим данные:\n",
    "print(f'all_data size is : {all_data.shape}')"
   ]
  },
  {
   "cell_type": "code",
   "execution_count": null,
   "id": "47cae4d8",
   "metadata": {},
   "outputs": [],
   "source": [
    "all_data.describe().transpose()"
   ]
  },
  {
   "cell_type": "markdown",
   "id": "90a79789",
   "metadata": {},
   "source": [
    "#### Fix Rooms # разбираемся с Rooms"
   ]
  },
  {
   "cell_type": "code",
   "execution_count": null,
   "id": "49600b0d",
   "metadata": {},
   "outputs": [],
   "source": [
    "all_data.loc[all_data['Rooms'] > 6]"
   ]
  },
  {
   "cell_type": "code",
   "execution_count": null,
   "id": "b242ec88",
   "metadata": {},
   "outputs": [],
   "source": [
    "all_data.loc[all_data['Rooms'] == 0]"
   ]
  },
  {
   "cell_type": "code",
   "execution_count": null,
   "id": "fe71ecc8",
   "metadata": {},
   "outputs": [],
   "source": [
    "def df_fix_room(df):\n",
    "    info_by_district_id = df.groupby(['DistrictId', 'HouseYear'], as_index=False).agg(\n",
    "        {'Rooms': 'sum', 'Square': 'sum'}).rename(\n",
    "        columns={'Rooms': 'sum_roos_dr', 'Square': 'sum_square_dr'})\n",
    "\n",
    "    info_by_district_id['mean_square_per_room_in_dr'] = info_by_district_id['sum_square_dr'] \\\n",
    "        / info_by_district_id['sum_roos_dr']\n",
    "    info_by_district_id.drop(\n",
    "        ['sum_square_dr', 'sum_roos_dr'], axis=1, inplace=True)\n",
    "\n",
    "    df = pd.merge(df, info_by_district_id, on=[\n",
    "                  'DistrictId', 'HouseYear'], how='left')\n",
    "\n",
    "    df['mean_square_per_room_in_dr'] = df['mean_square_per_room_in_dr'].fillna(\n",
    "        df['mean_square_per_room_in_dr'].mean())\n",
    "\n",
    "    df.loc[df['Rooms'] > 6, 'Rooms'] \\\n",
    "        = (df.loc[df['Rooms'] > 6, 'Square']\n",
    "           // df.loc[df['Rooms'] > 6, 'mean_square_per_room_in_dr']).astype('int')\n",
    "\n",
    "    df.loc[df['Rooms'] == 0, 'Rooms'] \\\n",
    "        = (df.loc[df['Rooms'] == 0, 'Square']\n",
    "           // df.loc[df['Rooms'] == 0, 'mean_square_per_room_in_dr']).astype('int')\n",
    "\n",
    "    df.loc[df['Rooms'] == 0, 'Rooms'] = 1\n",
    "    return df"
   ]
  },
  {
   "cell_type": "markdown",
   "id": "8a950d6a",
   "metadata": {},
   "source": [
    "#### Fix Square # разбираемся со Square"
   ]
  },
  {
   "cell_type": "code",
   "execution_count": null,
   "id": "2404e7b7",
   "metadata": {},
   "outputs": [],
   "source": [
    "all_data.loc[all_data['Square'] > 200].nlargest(20, 'Square')"
   ]
  },
  {
   "cell_type": "code",
   "execution_count": null,
   "id": "b1dd8f44",
   "metadata": {},
   "outputs": [],
   "source": [
    "sns.distplot(all_data['Square'], fit=norm)\n",
    "\n",
    "mu, sigma = norm.fit(all_data['Square'])\n",
    "\n",
    "print(f'mu = {mu:.2f} and sigma = {sigma:.2f}')\n",
    "\n",
    "plt.legend(\n",
    "    [f'Normal dist. ($\\mu=$ {mu:.2f} and $\\sigma=$ {sigma:.2f} )'])\n",
    "plt.ylabel('Frequency')\n",
    "plt.title('Square distribution')\n",
    "\n",
    "\n",
    "fig = plt.figure()\n",
    "res = stats.probplot(all_data['Square'], plot=plt)\n",
    "plt.show()"
   ]
  },
  {
   "cell_type": "code",
   "execution_count": null,
   "id": "5059a1b6",
   "metadata": {},
   "outputs": [],
   "source": [
    "def df_fix_square_manual(df):\n",
    "    df.loc[df['Square'] > 400, 'Square'] = df.loc[df['Square'] > 400, 'Square'] / 10\n",
    "    return df"
   ]
  },
  {
   "cell_type": "code",
   "execution_count": null,
   "id": "ab56f0e3",
   "metadata": {},
   "outputs": [],
   "source": [
    "def df_fix_square(df):\n",
    "    info_by_district_id = df.groupby(['DistrictId', 'Rooms', 'HouseYear'], as_index=False).agg(\n",
    "        {'Square': 'mean'}).rename(\n",
    "        columns={'Square': 'mean_square_rooms_dr'})\n",
    "\n",
    "    df = pd.merge(df, info_by_district_id, on=[\n",
    "        'DistrictId', 'Rooms', 'HouseYear'], how='left')\n",
    "\n",
    "    df.loc[abs(df['Square'] - df['mean_square_rooms_dr']) > 2 * sigma, 'Square'] \\\n",
    "        = df.loc[abs(df['Square'] - df['mean_square_rooms_dr']) > 2 * sigma, 'Rooms'] \\\n",
    "        * df.loc[abs(df['Square'] - df['mean_square_rooms_dr']) > 2 * sigma, 'mean_square_per_room_in_dr']\n",
    "    return df"
   ]
  },
  {
   "cell_type": "code",
   "execution_count": null,
   "id": "b3ec7cfd",
   "metadata": {},
   "outputs": [],
   "source": [
    "def prepare_lifesquare(df):\n",
    "    df.loc[df['Square'] < df['LifeSquare'],\n",
    "           'LifeSquare'] = df.loc[df['Square'] < df['LifeSquare'], 'Square']\n",
    "    return df\n",
    "\n",
    "def fillna_life_square(df):\n",
    "    df['LifeSquare'] = df['LifeSquare'].fillna(df['LifeSquare'].mean())\n",
    "    return df"
   ]
  },
  {
   "cell_type": "markdown",
   "id": "bec9a944",
   "metadata": {},
   "source": [
    "#### Fix HouseYear # разбираемся с HouseYear"
   ]
  },
  {
   "cell_type": "code",
   "execution_count": null,
   "id": "f312e5f9",
   "metadata": {},
   "outputs": [],
   "source": [
    "all_data.loc[all_data['HouseYear'] > 2020]"
   ]
  },
  {
   "cell_type": "code",
   "execution_count": null,
   "id": "1e9612ff",
   "metadata": {},
   "outputs": [],
   "source": [
    "def df_fix_house_year_manual(df):\n",
    "    df.loc[df['HouseYear'] == 20052011, 'HouseYear'] = int((2005 + 2011) / 2)\n",
    "    df.loc[df['HouseYear'] == 4968, 'HouseYear'] = 1968\n",
    "    return df"
   ]
  },
  {
   "cell_type": "markdown",
   "id": "f752c026",
   "metadata": {},
   "source": [
    "#### Data Processing"
   ]
  },
  {
   "cell_type": "markdown",
   "id": "7973f1df",
   "metadata": {},
   "source": [
    "Load packages"
   ]
  },
  {
   "cell_type": "code",
   "execution_count": null,
   "id": "0a5d4c3e",
   "metadata": {},
   "outputs": [],
   "source": [
    "# добавим ещё необходимых импортов:\n",
    "import numpy as np\n",
    "\n",
    "from sklearn.preprocessing import MinMaxScaler\n",
    "from sklearn.cluster import KMeans\n",
    "from sklearn.cluster import AgglomerativeClustering"
   ]
  },
  {
   "cell_type": "markdown",
   "id": "9b7444ef",
   "metadata": {},
   "source": [
    "#### target variable"
   ]
  },
  {
   "cell_type": "markdown",
   "id": "3d55c6fa",
   "metadata": {},
   "source": [
    "Normal distribution of the target variable:"
   ]
  },
  {
   "cell_type": "code",
   "execution_count": null,
   "id": "d84dc4db",
   "metadata": {},
   "outputs": [],
   "source": [
    "sns.distplot(train['Price'], fit=norm)\n",
    "\n",
    "mu, sigma = norm.fit(train['Price'])\n",
    "\n",
    "print(f'mu = {mu:.2f} and sigma = {sigma:.2f}')\n",
    "\n",
    "plt.legend(\n",
    "    [f'Normal dist. ($\\mu=$ {mu:.2f} and $\\sigma=$ {sigma:.2f} )'], loc='best')\n",
    "plt.ylabel('Frequency')\n",
    "plt.title('Price distribution')\n",
    "\n",
    "\n",
    "fig = plt.figure()\n",
    "res = stats.probplot(train['Price'], plot=plt)\n",
    "plt.show()"
   ]
  },
  {
   "cell_type": "markdown",
   "id": "035274b4",
   "metadata": {},
   "source": [
    "Log distribution of the target variable:"
   ]
  },
  {
   "cell_type": "code",
   "execution_count": null,
   "id": "4c82dc4d",
   "metadata": {},
   "outputs": [],
   "source": [
    "price_log = np.log1p(train['Price'])\n",
    "sns.distplot(price_log, fit=norm)\n",
    "\n",
    "mu, sigma = norm.fit(train['Price'])\n",
    "\n",
    "print(f'mu = {mu:.2f} and sigma = {sigma:.2f}')\n",
    "\n",
    "plt.legend(\n",
    "    [f'Normal dist. ($\\mu=$ {mu:.2f} and $\\sigma=$ {sigma:.2f} )'], loc='best')\n",
    "plt.ylabel('Frequency')\n",
    "plt.title('Price distribution')\n",
    "\n",
    "\n",
    "fig = plt.figure()\n",
    "res = stats.probplot(price_log, plot=plt)\n",
    "plt.show()"
   ]
  },
  {
   "cell_type": "markdown",
   "id": "0d007411",
   "metadata": {},
   "source": [
    "Distribution of variable HouseYear:"
   ]
  },
  {
   "cell_type": "code",
   "execution_count": null,
   "id": "7b47f77f",
   "metadata": {},
   "outputs": [],
   "source": [
    "plt.figure(figsize=(18, 6))\n",
    "sns.barplot(train['HouseYear'], train['Price'])\n",
    "plt.xticks(rotation=90)\n",
    "plt.title('Distribution of variable House Year')"
   ]
  },
  {
   "cell_type": "markdown",
   "id": "90701234",
   "metadata": {},
   "source": [
    "Distribution of variable DistrictId:"
   ]
  },
  {
   "cell_type": "code",
   "execution_count": null,
   "id": "219e4927",
   "metadata": {},
   "outputs": [],
   "source": [
    "plt.figure(figsize=(18, 6))\n",
    "sns.barplot(train['DistrictId'], train['Price'])\n",
    "plt.xticks(rotation=90)\n",
    "plt.title('Distribution of variable District Id')"
   ]
  },
  {
   "cell_type": "markdown",
   "id": "e71ae880",
   "metadata": {},
   "source": [
    "#### Features Engineering"
   ]
  },
  {
   "cell_type": "markdown",
   "id": "9991cea7",
   "metadata": {},
   "source": [
    "missing data:"
   ]
  },
  {
   "cell_type": "code",
   "execution_count": null,
   "id": "c86ad61f",
   "metadata": {},
   "outputs": [],
   "source": [
    "all_data = pd.concat((train, test), sort=False).reset_index(drop=True)\n",
    "all_data.drop(['Price'], axis=1, inplace=True)\n",
    "print(f'all_data size is : {all_data.shape}')"
   ]
  },
  {
   "cell_type": "code",
   "execution_count": null,
   "id": "e3ea0976",
   "metadata": {},
   "outputs": [],
   "source": [
    "all_data_na = (all_data.isnull().sum() / len(all_data)) * 100\n",
    "all_data_na = all_data_na.drop(\n",
    "    all_data_na[all_data_na == 0].index).sort_values(ascending=False)\n",
    "missing_data = pd.DataFrame({'Missing Ratio': all_data_na})\n",
    "missing_data"
   ]
  },
  {
   "cell_type": "code",
   "execution_count": null,
   "id": "964741c9",
   "metadata": {},
   "outputs": [],
   "source": [
    "def df_del_missing(df):\n",
    "    df_na = (df.isnull().sum() / len(df)) * 100\n",
    "\n",
    "    df_na = df_na.drop(\n",
    "        df_na[df_na == 0].index).sort_values(ascending=False)\n",
    "    df_na = list(df_na.index)\n",
    "    df.drop(df_na, axis=1, inplace=True)\n",
    "    return df"
   ]
  },
  {
   "cell_type": "markdown",
   "id": "e54c047f",
   "metadata": {},
   "source": [
    "data correlation:"
   ]
  },
  {
   "cell_type": "code",
   "execution_count": null,
   "id": "67888f1a",
   "metadata": {},
   "outputs": [],
   "source": [
    "corrmat = train.loc[:, train.columns != 'Id'].corr()\n",
    "plt.subplots(figsize=(12, 9))\n",
    "sns.heatmap(corrmat, vmax=0.9, square=True)"
   ]
  },
  {
   "cell_type": "code",
   "execution_count": null,
   "id": "bbd37a6e",
   "metadata": {},
   "outputs": [],
   "source": [
    "corrmat = train.loc[:, train.columns != 'Id'].corrwith(\n",
    "    train['Price']).abs().sort_values(ascending=False)[1:]\n",
    "plt.bar(corrmat.index, corrmat.values)\n",
    "plt.title('Correlation to Price')\n",
    "plt.xticks(rotation='vertical')\n",
    "plt.show()"
   ]
  },
  {
   "cell_type": "code",
   "execution_count": null,
   "id": "916740f4",
   "metadata": {},
   "outputs": [],
   "source": [
    "train.head()"
   ]
  },
  {
   "cell_type": "markdown",
   "id": "fa7474f1",
   "metadata": {},
   "source": [
    "#### Cluster"
   ]
  },
  {
   "cell_type": "code",
   "execution_count": null,
   "id": "da0a4a14",
   "metadata": {},
   "outputs": [],
   "source": [
    "scaler = MinMaxScaler()"
   ]
  },
  {
   "cell_type": "code",
   "execution_count": null,
   "id": "ee7cadef",
   "metadata": {},
   "outputs": [],
   "source": [
    "train_cluster = train.copy()"
   ]
  },
  {
   "cell_type": "code",
   "execution_count": null,
   "id": "dd876e63",
   "metadata": {},
   "outputs": [],
   "source": [
    "train_cluster = df_fix_house_year_manual(train_cluster)"
   ]
  },
  {
   "cell_type": "code",
   "execution_count": null,
   "id": "3ed83f0b",
   "metadata": {},
   "outputs": [],
   "source": [
    "train_cluster_scaled = pd.DataFrame(scaler.fit_transform(\n",
    "    train_cluster.loc[:, ['HouseYear', 'Price']]), columns=['HouseYear', 'Price'])"
   ]
  },
  {
   "cell_type": "code",
   "execution_count": null,
   "id": "8b4e8138",
   "metadata": {},
   "outputs": [],
   "source": [
    "inertias = []\n",
    "\n",
    "for i in range(2, 10):\n",
    "    temp_model = KMeans(n_clusters=i, random_state=100)\n",
    "    temp_model.fit(train_cluster_scaled)\n",
    "    temp_inertia = temp_model.inertia_\n",
    "    inertias.append(temp_inertia)\n",
    "\n",
    "plt.plot(range(2, 10), inertias)\n",
    "plt.title('Inertia')\n",
    "\n",
    "plt.show()"
   ]
  },
  {
   "cell_type": "code",
   "execution_count": null,
   "id": "5c7bffb2",
   "metadata": {},
   "outputs": [],
   "source": [
    "plt.scatter(train_cluster_scaled['HouseYear'], train_cluster_scaled['Price'])\n",
    "plt.xlabel('HouseYear')\n",
    "plt.ylabel('Price')\n",
    "plt.show()"
   ]
  },
  {
   "cell_type": "code",
   "execution_count": null,
   "id": "ff45592e",
   "metadata": {},
   "outputs": [],
   "source": [
    "kmeans_model = KMeans(n_clusters=5, random_state=100)"
   ]
  },
  {
   "cell_type": "code",
   "execution_count": null,
   "id": "7d7b440a",
   "metadata": {},
   "outputs": [],
   "source": [
    "train_labels = kmeans_model.fit_predict(train_cluster_scaled)"
   ]
  },
  {
   "cell_type": "code",
   "execution_count": null,
   "id": "13f46b7b",
   "metadata": {},
   "outputs": [],
   "source": [
    "plt.scatter(train_cluster_scaled['HouseYear'],\n",
    "            train_cluster_scaled['Price'], c=train_labels)\n",
    "\n",
    "plt.xlabel('HouseYear')\n",
    "plt.ylabel('Price')\n",
    "\n",
    "plt.title('Train data')"
   ]
  },
  {
   "cell_type": "code",
   "execution_count": null,
   "id": "859d4191",
   "metadata": {},
   "outputs": [],
   "source": [
    "agglomerative_clustering_model = AgglomerativeClustering(n_clusters=5)"
   ]
  },
  {
   "cell_type": "code",
   "execution_count": null,
   "id": "e927e7c6",
   "metadata": {},
   "outputs": [],
   "source": [
    "train_cluster['cluster_year'] = agglomerative_clustering_model.fit_predict(\n",
    "    train_cluster_scaled)"
   ]
  },
  {
   "cell_type": "code",
   "execution_count": null,
   "id": "eb4a5b69",
   "metadata": {},
   "outputs": [],
   "source": [
    "plt.scatter(train_cluster['HouseYear'],\n",
    "            train_cluster['Price'], c=train_cluster['cluster_year'])\n",
    "plt.xlabel('HouseYear')\n",
    "plt.ylabel('Price')\n",
    "plt.title('Train')"
   ]
  },
  {
   "cell_type": "code",
   "execution_count": null,
   "id": "4f5d13ad",
   "metadata": {},
   "outputs": [],
   "source": [
    "def add_cluster_year(df):\n",
    "    df_scaled = pd.DataFrame(scaler.fit_transform(\n",
    "        df.loc[:, ['HouseYear']]), columns=['HouseYear'])\n",
    "    df['cluster_year'] = agglomerative_clustering_model.fit_predict(df_scaled)\n",
    "    return df"
   ]
  },
  {
   "cell_type": "code",
   "execution_count": null,
   "id": "fe104852",
   "metadata": {},
   "outputs": [],
   "source": [
    "# Mean price by Rooms and mean price by DistrictId and Rooms\n",
    "def add_mean_price(df, df_train=train):\n",
    "    price = df_train['Price'].mean()\n",
    "    price_mean_by_rooms = df_train.groupby(['Rooms'], as_index=False).agg({'Price': 'mean'}).\\\n",
    "        rename(columns={'Price': 'mean_price_by_rooms'})\n",
    "\n",
    "    price_mean_by_distr_rooms = df_train.groupby(['DistrictId', 'Rooms'], as_index=False).agg({'Price': 'mean'}).\\\n",
    "        rename(columns={'Price': 'mean_price_dr'})\n",
    "\n",
    "    df = pd.merge(df, price_mean_by_distr_rooms, on=[\n",
    "                  'DistrictId', 'Rooms'], how='left')\n",
    "    df = pd.merge(df, price_mean_by_rooms, on='Rooms', how='left')\n",
    "    df['mean_price_dr'] = df['mean_price_dr'].fillna(df['mean_price_by_rooms'])\n",
    "    df['mean_price_dr'] = df['mean_price_dr'].fillna(price)\n",
    "    df['mean_price_by_rooms'] = df['mean_price_by_rooms'].fillna(price)\n",
    "    return df"
   ]
  },
  {
   "cell_type": "markdown",
   "id": "186bca79",
   "metadata": {},
   "source": [
    "#### Large district"
   ]
  },
  {
   "cell_type": "code",
   "execution_count": null,
   "id": "bd892d54",
   "metadata": {},
   "outputs": [],
   "source": [
    "def add_distr_info(df):\n",
    "    distr_info = df['DistrictId'].value_counts().reset_index().\\\n",
    "        rename(columns={\"index\": \"DistrictId\", \"DistrictId\": 'large_district'})\n",
    "    df = pd.merge(df, distr_info, on='DistrictId', how='left')\n",
    "    df['large_district'] = df['large_district'].fillna(1)\n",
    "    return df"
   ]
  },
  {
   "cell_type": "markdown",
   "id": "0ba1b893",
   "metadata": {},
   "source": [
    "#### Modelling"
   ]
  },
  {
   "cell_type": "markdown",
   "id": "ea6f7e67",
   "metadata": {},
   "source": [
    "Function:"
   ]
  },
  {
   "cell_type": "code",
   "execution_count": null,
   "id": "6ba47ff6",
   "metadata": {},
   "outputs": [],
   "source": [
    "def data_prepare(df, df_train=train):\n",
    "    df = df_fix_square_manual(df)\n",
    "    df = df_fix_house_year_manual(df)\n",
    "    df = df_fix_room(df)\n",
    "    df = df_fix_square(df)\n",
    "    df = prepare_lifesquare(df)\n",
    "    df = fillna_life_square(df)\n",
    "    df = df_del_missing(df)\n",
    "    df = add_cluster_year(df)\n",
    "    df = add_mean_price(df, df_train)\n",
    "    df = add_distr_info(df)\n",
    "    df = pd.get_dummies(df)\n",
    "    df.drop('mean_square_per_room_in_dr', axis=1, inplace=True)\n",
    "    df.drop('mean_square_rooms_dr', axis=1, inplace=True)\n",
    "    optimizing_df(df)\n",
    "    return df\n",
    "\n",
    "def model_test(model, name, test, valid):\n",
    "    model_pred = model.predict(test)\n",
    "    r2 = r2_score(valid, model_pred)\n",
    "    mse = mean_squared_error(valid, model_pred)\n",
    "    plt.scatter(valid, (model_pred - valid))\n",
    "    plt.xlabel(\"Predicted values\")\n",
    "    plt.ylabel(\"Real values\")\n",
    "    plt.title(name)\n",
    "    plt.legend([f'R2= {r2:.4f} and mse= {mse:.0e}'])\n",
    "    plt.axhline(0, color='red')\n",
    "    plt.show()\n",
    "\n",
    "\n",
    "def model_top_deviation(model, test, valid):\n",
    "    model_pred = model.predict(test)\n",
    "    model_test = test.copy()\n",
    "    model_test['Price'] = model_pred\n",
    "    model_test['Price_test'] = valid\n",
    "    model_test['SD'] = abs(model_test['Price']\n",
    "                           - model_test['Price_test'])\n",
    "    return model_test.nlargest(10, 'SD')"
   ]
  },
  {
   "cell_type": "markdown",
   "id": "4a5151b7",
   "metadata": {},
   "source": [
    "Load packages"
   ]
  },
  {
   "cell_type": "code",
   "execution_count": null,
   "id": "3d197329",
   "metadata": {},
   "outputs": [],
   "source": [
    "from sklearn.linear_model import LinearRegression\n",
    "from sklearn.ensemble import RandomForestRegressor\n",
    "from sklearn.ensemble import GradientBoostingRegressor\n",
    "from sklearn.linear_model import LassoCV\n",
    "from xgboost import XGBRegressor\n",
    "from lightgbm import LGBMRegressor\n",
    "\n",
    "from sklearn.model_selection import GridSearchCV\n",
    "\n",
    "from sklearn.metrics import r2_score\n",
    "from sklearn.metrics import mean_squared_error\n",
    "\n",
    "from sklearn.model_selection import train_test_split"
   ]
  },
  {
   "cell_type": "markdown",
   "id": "b5a7d3c8",
   "metadata": {},
   "source": [
    "#### Data processing"
   ]
  },
  {
   "cell_type": "code",
   "execution_count": null,
   "id": "6f0f1b42",
   "metadata": {},
   "outputs": [],
   "source": [
    "print(train.columns)"
   ]
  },
  {
   "cell_type": "code",
   "execution_count": null,
   "id": "70a8f853",
   "metadata": {},
   "outputs": [],
   "source": [
    "features = list(train.loc[:, train.columns != 'Id'].corrwith(\n",
    "    train['Price']).abs().sort_values(ascending=False)[1:].index)\n",
    "\n",
    "target = 'Price'"
   ]
  },
  {
   "cell_type": "code",
   "execution_count": null,
   "id": "e8933ff0",
   "metadata": {},
   "outputs": [],
   "source": [
    "train[features].head()"
   ]
  },
  {
   "cell_type": "code",
   "execution_count": null,
   "id": "f8f7428a",
   "metadata": {},
   "outputs": [],
   "source": [
    "models_dict = {}"
   ]
  },
  {
   "cell_type": "code",
   "execution_count": null,
   "id": "1ff0bb3f",
   "metadata": {},
   "outputs": [],
   "source": [
    "X_train, X_test, y_train, y_test = train_test_split(\n",
    "    train[features], train[target], test_size=0.3, random_state=42)"
   ]
  },
  {
   "cell_type": "code",
   "execution_count": null,
   "id": "39b87963",
   "metadata": {},
   "outputs": [],
   "source": [
    "X_train = data_prepare(X_train, train)\n",
    "X_test = data_prepare(X_test, train)"
   ]
  },
  {
   "cell_type": "code",
   "execution_count": null,
   "id": "490528f7",
   "metadata": {},
   "outputs": [],
   "source": [
    "X_train.info()"
   ]
  },
  {
   "cell_type": "code",
   "execution_count": null,
   "id": "df11434c",
   "metadata": {},
   "outputs": [],
   "source": [
    "X_test.info()"
   ]
  },
  {
   "cell_type": "code",
   "execution_count": null,
   "id": "60dbae0a",
   "metadata": {},
   "outputs": [],
   "source": [
    "X_train.head()"
   ]
  },
  {
   "cell_type": "code",
   "execution_count": null,
   "id": "cdb7b500",
   "metadata": {},
   "outputs": [],
   "source": [
    "y_train.head()"
   ]
  },
  {
   "cell_type": "markdown",
   "id": "31538070",
   "metadata": {},
   "source": [
    "#### Linear Regression"
   ]
  },
  {
   "cell_type": "code",
   "execution_count": null,
   "id": "6fc58f38",
   "metadata": {},
   "outputs": [],
   "source": [
    "line_regression_model = LinearRegression()\n",
    "line_regression_model.fit(X_train, y_train)"
   ]
  },
  {
   "cell_type": "code",
   "execution_count": null,
   "id": "5e145482",
   "metadata": {},
   "outputs": [],
   "source": [
    "models_dict['Linear Regression'] = line_regression_model"
   ]
  },
  {
   "cell_type": "markdown",
   "id": "fe094f70",
   "metadata": {},
   "source": [
    "#### Test\n",
    "Linear regression"
   ]
  },
  {
   "cell_type": "code",
   "execution_count": null,
   "id": "57a08f80",
   "metadata": {},
   "outputs": [],
   "source": [
    "model_test(line_regression_model, 'Linear Regression', X_test, y_test)"
   ]
  },
  {
   "cell_type": "code",
   "execution_count": null,
   "id": "0ce4d38a",
   "metadata": {},
   "outputs": [],
   "source": [
    "model_top_deviation(line_regression_model, X_test, y_test)"
   ]
  },
  {
   "cell_type": "markdown",
   "id": "00f13543",
   "metadata": {},
   "source": [
    "#### Random Forest Regressor"
   ]
  },
  {
   "cell_type": "code",
   "execution_count": null,
   "id": "8570a2bc",
   "metadata": {},
   "outputs": [],
   "source": [
    "random_forest_regressor_model = RandomForestRegressor()\n",
    "random_forest_regressor_model.fit(X_train, y_train)"
   ]
  },
  {
   "cell_type": "code",
   "execution_count": null,
   "id": "b1fce197",
   "metadata": {},
   "outputs": [],
   "source": [
    "models_dict['Random Forest Regressor'] = random_forest_regressor_model"
   ]
  },
  {
   "cell_type": "markdown",
   "id": "848fa27c",
   "metadata": {},
   "source": [
    "#### Test\n",
    "Random Forest Regressor"
   ]
  },
  {
   "cell_type": "code",
   "execution_count": null,
   "id": "9343f0e4",
   "metadata": {},
   "outputs": [],
   "source": [
    "model_test(random_forest_regressor_model,\n",
    "           'Random Forest Regressor', X_test, y_test)"
   ]
  },
  {
   "cell_type": "code",
   "execution_count": null,
   "id": "b7381dab",
   "metadata": {},
   "outputs": [],
   "source": [
    "model_top_deviation(random_forest_regressor_model, X_test, y_test)"
   ]
  },
  {
   "cell_type": "markdown",
   "id": "7b62ecc0",
   "metadata": {},
   "source": [
    "#### Gradient Boosting Regressor"
   ]
  },
  {
   "cell_type": "code",
   "execution_count": null,
   "id": "2216afc2",
   "metadata": {},
   "outputs": [],
   "source": [
    "gradient_boosting_regressor_model = GradientBoostingRegressor()\n",
    "gradient_boosting_regressor_model.fit(X_train, y_train)"
   ]
  },
  {
   "cell_type": "code",
   "execution_count": null,
   "id": "b75d62e1",
   "metadata": {},
   "outputs": [],
   "source": [
    "models_dict['Gradient Boosting Regressor'] = gradient_boosting_regressor_model"
   ]
  },
  {
   "cell_type": "markdown",
   "id": "54b2abb0",
   "metadata": {},
   "source": [
    "#### Test\n",
    "Gradient Boosting Regressor"
   ]
  },
  {
   "cell_type": "code",
   "execution_count": null,
   "id": "877e5801",
   "metadata": {},
   "outputs": [],
   "source": [
    "model_test(gradient_boosting_regressor_model,\n",
    "           'Gradient Boosting Regressor', X_test, y_test)"
   ]
  },
  {
   "cell_type": "code",
   "execution_count": null,
   "id": "6a556ab3",
   "metadata": {},
   "outputs": [],
   "source": [
    "model_top_deviation(gradient_boosting_regressor_model, X_test, y_test)"
   ]
  },
  {
   "cell_type": "markdown",
   "id": "b6709150",
   "metadata": {},
   "source": [
    "#### LassoCV"
   ]
  },
  {
   "cell_type": "code",
   "execution_count": null,
   "id": "855a87e7",
   "metadata": {},
   "outputs": [],
   "source": [
    "lasso_cv_model = LassoCV()\n",
    "lasso_cv_model.fit(X_train, y_train)"
   ]
  },
  {
   "cell_type": "code",
   "execution_count": null,
   "id": "1a739cd8",
   "metadata": {},
   "outputs": [],
   "source": [
    "models_dict['LassoCV'] = lasso_cv_model"
   ]
  },
  {
   "cell_type": "markdown",
   "id": "fa5f3c14",
   "metadata": {},
   "source": [
    "#### Test\n",
    "LassoCV"
   ]
  },
  {
   "cell_type": "code",
   "execution_count": null,
   "id": "094305df",
   "metadata": {},
   "outputs": [],
   "source": [
    "model_test(lasso_cv_model, 'LassoCV', X_test, y_test)"
   ]
  },
  {
   "cell_type": "code",
   "execution_count": null,
   "id": "f265af5a",
   "metadata": {},
   "outputs": [],
   "source": [
    "model_top_deviation(lasso_cv_model, X_test, y_test)"
   ]
  },
  {
   "cell_type": "code",
   "execution_count": null,
   "id": "fac91b60",
   "metadata": {},
   "outputs": [],
   "source": [
    "all_data.loc[all_data['KitchenSquare'] < 3]"
   ]
  },
  {
   "cell_type": "markdown",
   "id": "437a5d0a",
   "metadata": {},
   "source": [
    "#### LGBMRegressor"
   ]
  },
  {
   "cell_type": "code",
   "execution_count": null,
   "id": "7e80918e",
   "metadata": {},
   "outputs": [],
   "source": [
    "lgbm_regressor_model = LGBMRegressor()\n",
    "lgbm_regressor_model.fit(X_train, y_train)"
   ]
  },
  {
   "cell_type": "markdown",
   "id": "49df3f44",
   "metadata": {},
   "source": [
    "#### Test\n",
    "LGBMRegressor"
   ]
  },
  {
   "cell_type": "code",
   "execution_count": null,
   "id": "6baf7881",
   "metadata": {},
   "outputs": [],
   "source": [
    "model_test(lgbm_regressor_model, 'LGBMRegressor', X_test, y_test)"
   ]
  },
  {
   "cell_type": "code",
   "execution_count": null,
   "id": "2493fd19",
   "metadata": {},
   "outputs": [],
   "source": [
    "model_top_deviation(lgbm_regressor_model, X_test, y_test)"
   ]
  },
  {
   "cell_type": "markdown",
   "id": "35a0f70e",
   "metadata": {},
   "source": [
    "#### Tunning\n",
    "LGBMRegressor"
   ]
  },
  {
   "cell_type": "code",
   "execution_count": null,
   "id": "8658b929",
   "metadata": {},
   "outputs": [],
   "source": [
    "lgbm_regressor_model.get_params"
   ]
  },
  {
   "cell_type": "code",
   "execution_count": null,
   "id": "eeeaebdb",
   "metadata": {},
   "outputs": [],
   "source": [
    "np.arange(0.01, 0.05, 0.01)"
   ]
  },
  {
   "cell_type": "code",
   "execution_count": null,
   "id": "f0f88498",
   "metadata": {},
   "outputs": [],
   "source": [
    "parameters = [{\n",
    "    'max_bin': np.arange(90, 120, 10),\n",
    "    'n_estimators': np.arange(4000, 7000, 1000),\n",
    "    'learning_rate': np.arange(0.01, 0.05, 0.01)\n",
    "}]"
   ]
  },
  {
   "cell_type": "code",
   "execution_count": null,
   "id": "d1e158e7",
   "metadata": {},
   "outputs": [],
   "source": [
    "clf = GridSearchCV(\n",
    "    estimator=LGBMRegressor(random_state=42),\n",
    "    param_grid=parameters,\n",
    "    scoring='neg_mean_squared_error',\n",
    "    cv=4,\n",
    "    n_jobs=-1,\n",
    ")"
   ]
  },
  {
   "cell_type": "code",
   "execution_count": null,
   "id": "665cc235",
   "metadata": {},
   "outputs": [],
   "source": [
    "clf.fit(X_train, y_train)"
   ]
  },
  {
   "cell_type": "code",
   "execution_count": null,
   "id": "5905a0ce",
   "metadata": {},
   "outputs": [],
   "source": [
    "cv_results = pd.DataFrame(clf.cv_results_)\n",
    "param_columns = [\n",
    "    column\n",
    "    for column in cv_results.columns\n",
    "    if column.startswith('param_')\n",
    "]\n",
    "\n",
    "score_columns = ['mean_test_score']\n",
    "\n",
    "cv_results = (cv_results[param_columns + score_columns]\n",
    "              .sort_values(by=score_columns, ascending=False))\n",
    "\n",
    "cv_results.head(10)"
   ]
  },
  {
   "cell_type": "code",
   "execution_count": null,
   "id": "987d9a6a",
   "metadata": {},
   "outputs": [],
   "source": [
    "clf.best_params_"
   ]
  },
  {
   "cell_type": "markdown",
   "id": "4449bee4",
   "metadata": {},
   "source": [
    "#### Test\n",
    "tunning LGBMRegressor"
   ]
  },
  {
   "cell_type": "code",
   "execution_count": null,
   "id": "3cfb45b2",
   "metadata": {},
   "outputs": [],
   "source": [
    "lgbm_regressor_model = LGBMRegressor(\n",
    "    max_bin=110,\n",
    "    num_leaves=4,\n",
    "    n_estimators=4000,\n",
    "    learning_rate=0.01\n",
    ")\n",
    "lgbm_regressor_model.fit(X_train, y_train)"
   ]
  },
  {
   "cell_type": "code",
   "execution_count": null,
   "id": "3b4d7143",
   "metadata": {},
   "outputs": [],
   "source": [
    "model_test(lgbm_regressor_model, 'LGBMRegressor', X_test, y_test)"
   ]
  },
  {
   "cell_type": "code",
   "execution_count": null,
   "id": "fc22be82",
   "metadata": {},
   "outputs": [],
   "source": [
    "models_dict['LGBMRegressor'] = lgbm_regressor_model"
   ]
  },
  {
   "cell_type": "markdown",
   "id": "7e9a52ec",
   "metadata": {},
   "source": [
    "#### XGBRegressor"
   ]
  },
  {
   "cell_type": "code",
   "execution_count": null,
   "id": "95913a17",
   "metadata": {},
   "outputs": [],
   "source": [
    "xgboost_model = XGBRegressor()\n",
    "xgboost_model.fit(X_train, y_train)"
   ]
  },
  {
   "cell_type": "code",
   "execution_count": null,
   "id": "4fc1ab23",
   "metadata": {},
   "outputs": [],
   "source": [
    "models_dict['XGBRegressor'] = xgboost_model"
   ]
  },
  {
   "cell_type": "markdown",
   "id": "d66bbc4d",
   "metadata": {},
   "source": [
    "#### Test\n",
    "XGBRegressor"
   ]
  },
  {
   "cell_type": "code",
   "execution_count": null,
   "id": "e94d8b4b",
   "metadata": {},
   "outputs": [],
   "source": [
    "model_test(xgboost_model, 'XGBRegressor', X_test, y_test)"
   ]
  },
  {
   "cell_type": "code",
   "execution_count": null,
   "id": "c837411e",
   "metadata": {},
   "outputs": [],
   "source": [
    "model_top_deviation(xgboost_model, X_test, y_test)"
   ]
  },
  {
   "cell_type": "markdown",
   "id": "18c1b8e3",
   "metadata": {},
   "source": [
    "#### The result:"
   ]
  },
  {
   "cell_type": "markdown",
   "id": "85de8a9c",
   "metadata": {},
   "source": [
    "Load packages"
   ]
  },
  {
   "cell_type": "code",
   "execution_count": null,
   "id": "3477751a",
   "metadata": {},
   "outputs": [],
   "source": [
    "from sklearn.metrics import r2_score\n",
    "from sklearn.metrics import mean_squared_error"
   ]
  },
  {
   "cell_type": "markdown",
   "id": "e88c529d",
   "metadata": {},
   "source": [
    "Function:"
   ]
  },
  {
   "cell_type": "code",
   "execution_count": null,
   "id": "692a2ead",
   "metadata": {},
   "outputs": [],
   "source": [
    "def models_r2(models, test, valid):\n",
    "    scores = pd.DataFrame(columns=['name', 'r2', 'mse'])\n",
    "    for name, model in models.items():\n",
    "        test_pred = model.predict(test)\n",
    "        r2 = r2_score(valid, test_pred)\n",
    "        mse = mean_squared_error(valid, test_pred)\n",
    "        scores = scores.append(\n",
    "            {'name': name, 'r2': r2, 'mse': mse}, ignore_index=True)\n",
    "    scores.sort_values('r2', ascending=False, inplace=True)\n",
    "    return scores"
   ]
  },
  {
   "cell_type": "markdown",
   "id": "1a462341",
   "metadata": {},
   "source": [
    "#### Choosing the best model:"
   ]
  },
  {
   "cell_type": "code",
   "execution_count": null,
   "id": "e08d7407",
   "metadata": {},
   "outputs": [],
   "source": [
    "models_score_test = models_r2(models_dict, X_test, y_test)\n",
    "models_score_train = models_r2(models_dict, X_train, y_train)"
   ]
  },
  {
   "cell_type": "code",
   "execution_count": null,
   "id": "c477ad46",
   "metadata": {},
   "outputs": [],
   "source": [
    "models_score_test[['name', 'r2']]"
   ]
  },
  {
   "cell_type": "code",
   "execution_count": null,
   "id": "56eec585",
   "metadata": {},
   "outputs": [],
   "source": [
    "r2_max_test = models_score_test['r2'].max()\n",
    "r2_max_train = models_score_train['r2'].max()\n",
    "plt.barh(models_score_test['name'], models_score_test['r2'],\n",
    "         alpha=0.5, color='red', label=f'Test  Data: R2 max: {r2_max_test:.4f}')\n",
    "plt.barh(models_score_train['name'], models_score_train['r2'],\n",
    "         alpha=0.5, color='grey', label=f'Train Data: R2 max: {r2_max_train:.4f}')\n",
    "plt.title('R2')\n",
    "plt.legend()\n",
    "plt.axvline(0.6, color='red')\n",
    "plt.axvline(r2_max_test, color='yellow')\n",
    "plt.show()"
   ]
  },
  {
   "cell_type": "code",
   "execution_count": null,
   "id": "71395911",
   "metadata": {},
   "outputs": [],
   "source": [
    "mse_min_test = models_score_test['mse'].min()\n",
    "mse_min_train = models_score_train['mse'].min()\n",
    "plt.barh(models_score_test['name'], models_score_test['mse'],\n",
    "         alpha=0.5, color='red', label=f'Test  Data MSE min: {mse_min_test:.0e}')\n",
    "plt.barh(models_score_train['name'], models_score_train['mse'],\n",
    "         alpha=0.5, color='grey', label=f'Train Data MSE min: {mse_min_train:.0e}')\n",
    "plt.title('Mean squared error')\n",
    "plt.legend(loc=2)\n",
    "plt.axvline(mse_min_test, color='yellow')\n",
    "plt.show()"
   ]
  },
  {
   "cell_type": "code",
   "execution_count": null,
   "id": "600782b8",
   "metadata": {},
   "outputs": [],
   "source": [
    "best_model = models_dict['LGBMRegressor']"
   ]
  },
  {
   "cell_type": "code",
   "execution_count": null,
   "id": "7073bc82",
   "metadata": {},
   "outputs": [],
   "source": [
    "pd.DataFrame({'name': list(X_train.columns),\n",
    "              'importances': list(best_model.feature_importances_)})"
   ]
  },
  {
   "cell_type": "code",
   "execution_count": null,
   "id": "89abedee",
   "metadata": {},
   "outputs": [],
   "source": [
    "model_test(best_model, 'best_model', X_test, y_test)"
   ]
  },
  {
   "cell_type": "markdown",
   "id": "dead1179",
   "metadata": {},
   "source": [
    "#### Output files:"
   ]
  },
  {
   "cell_type": "code",
   "execution_count": null,
   "id": "57d9bad9",
   "metadata": {},
   "outputs": [],
   "source": [
    "# небольшая замена кода:"
   ]
  },
  {
   "cell_type": "code",
   "execution_count": null,
   "id": "3e86f7ef",
   "metadata": {},
   "outputs": [],
   "source": [
    "test = data_prepare(test)"
   ]
  },
  {
   "cell_type": "code",
   "execution_count": null,
   "id": "7fcc81ce",
   "metadata": {},
   "outputs": [],
   "source": [
    "test_features = list(X_train.columns)"
   ]
  },
  {
   "cell_type": "code",
   "execution_count": null,
   "id": "159d38a2",
   "metadata": {},
   "outputs": [],
   "source": [
    "test[test_features].info()"
   ]
  },
  {
   "cell_type": "code",
   "execution_count": null,
   "id": "a0c469c2",
   "metadata": {},
   "outputs": [],
   "source": [
    "test['Price'] = best_model.predict(test[test_features])"
   ]
  },
  {
   "cell_type": "code",
   "execution_count": null,
   "id": "e586aef7",
   "metadata": {},
   "outputs": [],
   "source": [
    "price_log = np.log1p(test['Price'])\n",
    "sns.distplot(price_log, fit=norm)\n",
    "\n",
    "mu, sigma = norm.fit(test['Price'])\n",
    "\n",
    "print(f'mu = {mu:.2f} and sigma = {sigma:.2f}')\n",
    "\n",
    "plt.legend(\n",
    "    [f'Normal dist. ($\\mu=$ {mu:.2f} and $\\sigma=$ {sigma:.2f} )'], loc='best')\n",
    "plt.ylabel('Frequency')\n",
    "plt.title('Price distribution')\n",
    "\n",
    "\n",
    "fig = plt.figure()\n",
    "res = stats.probplot(price_log, plot=plt)\n",
    "plt.show()"
   ]
  },
  {
   "cell_type": "code",
   "execution_count": null,
   "id": "a6fc40a4",
   "metadata": {},
   "outputs": [],
   "source": [
    "test[['Id', 'Price']].to_csv('LGarifullina_predictions.csv', index=None)"
   ]
  }
 ],
 "metadata": {
  "kernelspec": {
   "display_name": "Python 3",
   "language": "python",
   "name": "python3"
  },
  "language_info": {
   "codemirror_mode": {
    "name": "ipython",
    "version": 3
   },
   "file_extension": ".py",
   "mimetype": "text/x-python",
   "name": "python",
   "nbconvert_exporter": "python",
   "pygments_lexer": "ipython3",
   "version": "3.8.8"
  }
 },
 "nbformat": 4,
 "nbformat_minor": 5
}
